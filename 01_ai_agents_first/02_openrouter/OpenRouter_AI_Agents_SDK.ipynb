{
 "cells": [
  {
   "cell_type": "markdown",
   "metadata": {
    "id": "6uuIsoDz9eca"
   },
   "source": [
    "# **Install OpenAI Agents Dep.**"
   ]
  },
  {
   "cell_type": "code",
   "execution_count": null,
   "metadata": {
    "collapsed": true,
    "id": "nvBPUcHX9six"
   },
   "outputs": [],
   "source": [
    "!pip install -Uq openai-agents"
   ]
  },
  {
   "cell_type": "code",
   "execution_count": null,
   "metadata": {
    "collapsed": true,
    "executionInfo": {
     "elapsed": 45,
     "status": "ok",
     "timestamp": 1749418116829,
     "user": {
      "displayName": "Shabbir Khan",
      "userId": "09450435512959680117"
     },
     "user_tz": -300
    },
    "id": "5uZ3u1gd-R8Y"
   },
   "outputs": [],
   "source": [
    "import nest_asyncio\n",
    "nest_asyncio.apply()"
   ]
  },
  {
   "cell_type": "markdown",
   "metadata": {
    "id": "4KDPLBNsJLFr"
   },
   "source": [
    "# **Provider Config**"
   ]
  },
  {
   "cell_type": "code",
   "execution_count": null,
   "metadata": {
    "executionInfo": {
     "elapsed": 1292,
     "status": "ok",
     "timestamp": 1749413781536,
     "user": {
      "displayName": "Shabbir Khan",
      "userId": "09450435512959680117"
     },
     "user_tz": -300
    },
    "id": "uOvxW1KeJX0C"
   },
   "outputs": [],
   "source": [
    "from google.colab import userdata\n",
    "\n",
    "OPENROUTER_API_KEY = userdata.get(\"OPENROUTER_API_KEY\")"
   ]
  },
  {
   "cell_type": "code",
   "execution_count": null,
   "metadata": {
    "executionInfo": {
     "elapsed": 63,
     "status": "ok",
     "timestamp": 1749414163146,
     "user": {
      "displayName": "Shabbir Khan",
      "userId": "09450435512959680117"
     },
     "user_tz": -300
    },
    "id": "sw0aToibKwIO"
   },
   "outputs": [],
   "source": [
    "BASE_URL = \"https://openrouter.ai/api/v1\"\n",
    "MODEL = \"google/gemini-2.0-flash-exp:free\""
   ]
  },
  {
   "cell_type": "markdown",
   "metadata": {
    "id": "JAXIV9-hNfwl"
   },
   "source": [
    "# **1. Using the OpenRouter API directly**"
   ]
  },
  {
   "cell_type": "code",
   "execution_count": null,
   "metadata": {
    "id": "8n74NBpPNnK-"
   },
   "outputs": [],
   "source": [
    "import requests\n",
    "import json\n",
    "\n",
    "response = requests.post(\n",
    "    url=f\"{BASE_URL}/chat/completions\",\n",
    "    headers={\n",
    "        \"Authorization\" : f\"Bearer {OPENROUTER_API_KEY}\",\n",
    "    },\n",
    "    data=json.dumps({\n",
    "      \"model\" : MODEL,\n",
    "      \"messages\" : [\n",
    "        {\n",
    "          \"role\": \"user\",\n",
    "          \"content\" : \"What is the meaning of life?\"\n",
    "        }\n",
    "        ]\n",
    "    })\n",
    ")\n",
    "\n",
    "print(response.json())"
   ]
  },
  {
   "cell_type": "code",
   "execution_count": null,
   "metadata": {
    "id": "C1RwGx0GTpkc"
   },
   "outputs": [],
   "source": [
    "data = response.json()\n",
    "data[\"choices\"][0][\"message\"][\"content\"]"
   ]
  },
  {
   "cell_type": "markdown",
   "metadata": {
    "id": "0OmbroZfUeSq"
   },
   "source": [
    "# **2. Using OpenAI Agents SDK**"
   ]
  },
  {
   "cell_type": "code",
   "execution_count": null,
   "metadata": {
    "id": "rD07M_HCUojq"
   },
   "outputs": [],
   "source": [
    "import asyncio\n",
    "from openai import AsyncOpenAI\n",
    "from agents import Agent, OpenAIChatCompletionsModel, Runner, set_tracing_disabled\n",
    "\n",
    "client = AsyncOpenAI(\n",
    "    api_key=OPENROUTER_API_KEY,\n",
    "    base_url=BASE_URL\n",
    ")\n",
    "\n",
    "set_tracing_disabled(disabled=True)\n",
    "\n",
    "async def main():\n",
    "    # This agent will use the custom LLM provider\n",
    "    agent = Agent(\n",
    "        name=\"Assistant\",\n",
    "        instructions=\"You only respond in haikus.\",\n",
    "        model=OpenAIChatCompletionsModel(model=MODEL, openai_client=client),\n",
    "    )\n",
    "\n",
    "    result = await Runner.run(\n",
    "        agent,\n",
    "        \"Tell me about recursion in programming.\",\n",
    "    )\n",
    "    print(result.final_output)\n",
    "\n",
    "\n",
    "if __name__ == \"__main__\":\n",
    "    asyncio.run(main())\n"
   ]
  }
 ],
 "metadata": {
  "colab": {
   "authorship_tag": "ABX9TyPweA2T9q3ZN3sFA0GtX3hi",
   "provenance": []
  },
  "kernelspec": {
   "display_name": "Python 3",
   "name": "python3"
  },
  "language_info": {
   "name": "python"
  }
 },
 "nbformat": 4,
 "nbformat_minor": 0
}
